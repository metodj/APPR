{
 "cells": [
  {
   "cell_type": "markdown",
   "metadata": {},
   "source": [
    "V tem \"notebooku\" bom poskusil izdelati ti. \"Credit default\" model, ki bo iz danih podatkov o komitentih (najemnikih posojila) napovedal, ali bo slednji dolg odplačal ali ne. Podatke sem pridobil z naslednje spletne strani: https://www.kaggle.com/wendykan/lending-club-loan-data"
   ]
  },
  {
   "cell_type": "code",
   "execution_count": 2,
   "metadata": {
    "collapsed": false
   },
   "outputs": [],
   "source": [
    "library(ggplot2)\n",
    "library(rvest)\n",
    "library(gsubfn)\n",
    "library(readr)\n",
    "library(dplyr)\n",
    "library(readxl)"
   ]
  },
  {
   "cell_type": "markdown",
   "metadata": {},
   "source": [
    "Uvoženi podatki se nahajajo v dveh tabelah. Prva tabela vsebuje spremenljivke in njihove opise (pomene). V drugi (glavni) so zbrani podatki o posameznih najemnikih posojil. Gre za ogromno podatkovno zbirko, saj obsega podatke o kar slabih 900.000 osebah, pri vsaki pa je shranjenih 74 spremenljivk.\n",
    "\n",
    "Podatki so že v \"tidy-data\" obliki, niso pa še pripravljeni za nadaljnjo analizo (prevelika količina spremenljivk za učinkovito in pregledno delo). Prva faza bo tako obsegala izbor najpomembnejših spremenljivk (želeno število je okoli 20). Za lažje delo v nadaljevanju bom tudi zmanjšal število komitentov v bazi (sam uvoz celotnih podatkov je namreč trajal cca 5 minut) na približno 80.000, kar predstavlja 10% začetnih podatkov."
   ]
  },
  {
   "cell_type": "code",
   "execution_count": 9,
   "metadata": {
    "collapsed": false
   },
   "outputs": [],
   "source": [
    "info = read_excel(\"filesCredit/LCDataDictionary.xlsx\")"
   ]
  },
  {
   "cell_type": "code",
   "execution_count": 13,
   "metadata": {
    "collapsed": false
   },
   "outputs": [
    {
     "data": {
      "text/html": [
       "<table>\n",
       "<thead><tr><th scope=col>LoanStatNew</th><th scope=col>Description</th></tr></thead>\n",
       "<tbody>\n",
       "\t<tr><td>addr_state                                                                                          </td><td>The state provided by the borrower in the loan application                                          </td></tr>\n",
       "\t<tr><td>annual_inc                                                                                          </td><td>The self-reported annual income provided by the borrower during registration.                       </td></tr>\n",
       "\t<tr><td>annual_inc_joint                                                                                    </td><td>The combined self-reported annual income provided by the co-borrowers during registration           </td></tr>\n",
       "\t<tr><td>application_type                                                                                    </td><td>Indicates whether the loan is an individual application or a joint application with two co-borrowers</td></tr>\n",
       "\t<tr><td>collection_recovery_fee                                                                             </td><td>post charge off collection fee                                                                      </td></tr>\n",
       "\t<tr><td>collections_12_mths_ex_med                                                                          </td><td>Number of collections in 12 months excluding medical collections                                    </td></tr>\n",
       "</tbody>\n",
       "</table>\n"
      ],
      "text/latex": [
       "\\begin{tabular}{r|ll}\n",
       " LoanStatNew & Description\\\\\n",
       "\\hline\n",
       "\t addr\\_state                                                                                         & The state provided by the borrower in the loan application                                          \\\\\n",
       "\t annual\\_inc                                                                                         & The self-reported annual income provided by the borrower during registration.                       \\\\\n",
       "\t annual\\_inc\\_joint                                                                                 & The combined self-reported annual income provided by the co-borrowers during registration           \\\\\n",
       "\t application\\_type                                                                                   & Indicates whether the loan is an individual application or a joint application with two co-borrowers\\\\\n",
       "\t collection\\_recovery\\_fee                                                                          & post charge off collection fee                                                                      \\\\\n",
       "\t collections\\_12\\_mths\\_ex\\_med                                                                   & Number of collections in 12 months excluding medical collections                                    \\\\\n",
       "\\end{tabular}\n"
      ],
      "text/markdown": [
       "\n",
       "LoanStatNew | Description | \n",
       "|---|---|---|---|---|---|\n",
       "| addr_state                                                                                           | The state provided by the borrower in the loan application                                           | \n",
       "| annual_inc                                                                                           | The self-reported annual income provided by the borrower during registration.                        | \n",
       "| annual_inc_joint                                                                                     | The combined self-reported annual income provided by the co-borrowers during registration            | \n",
       "| application_type                                                                                     | Indicates whether the loan is an individual application or a joint application with two co-borrowers | \n",
       "| collection_recovery_fee                                                                              | post charge off collection fee                                                                       | \n",
       "| collections_12_mths_ex_med                                                                           | Number of collections in 12 months excluding medical collections                                     | \n",
       "\n",
       "\n"
      ],
      "text/plain": [
       "  LoanStatNew               \n",
       "1 addr_state                \n",
       "2 annual_inc                \n",
       "3 annual_inc_joint          \n",
       "4 application_type          \n",
       "5 collection_recovery_fee   \n",
       "6 collections_12_mths_ex_med\n",
       "  Description                                                                                         \n",
       "1 The state provided by the borrower in the loan application                                          \n",
       "2 The self-reported annual income provided by the borrower during registration.                       \n",
       "3 The combined self-reported annual income provided by the co-borrowers during registration           \n",
       "4 Indicates whether the loan is an individual application or a joint application with two co-borrowers\n",
       "5 post charge off collection fee                                                                      \n",
       "6 Number of collections in 12 months excluding medical collections                                    "
      ]
     },
     "metadata": {},
     "output_type": "display_data"
    }
   ],
   "source": [
    "head(info)"
   ]
  },
  {
   "cell_type": "code",
   "execution_count": 8,
   "metadata": {
    "collapsed": true
   },
   "outputs": [],
   "source": [
    "#datoteka loan.csv se ne nahaja več v tem repozitoriju (prevelika datoteka, da bi jo naložil na github)\n",
    "loadData = read.csv(\"loan.csv\", header=T)"
   ]
  },
  {
   "cell_type": "code",
   "execution_count": 33,
   "metadata": {
    "collapsed": false
   },
   "outputs": [
    {
     "data": {
      "text/html": [
       "<table>\n",
       "<thead><tr><th scope=col>id</th><th scope=col>member_id</th><th scope=col>loan_amnt</th><th scope=col>funded_amnt</th><th scope=col>funded_amnt_inv</th><th scope=col>term</th><th scope=col>int_rate</th><th scope=col>installment</th><th scope=col>grade</th><th scope=col>sub_grade</th><th scope=col>...</th><th scope=col>total_bal_il</th><th scope=col>il_util</th><th scope=col>open_rv_12m</th><th scope=col>open_rv_24m</th><th scope=col>max_bal_bc</th><th scope=col>all_util</th><th scope=col>total_rev_hi_lim</th><th scope=col>inq_fi</th><th scope=col>total_cu_tl</th><th scope=col>inq_last_12m</th></tr></thead>\n",
       "<tbody>\n",
       "\t<tr><td>1077501   </td><td>1296599   </td><td> 5000     </td><td> 5000     </td><td> 4975     </td><td> 36 months</td><td>10.65     </td><td>162.87    </td><td>B         </td><td>B2        </td><td>...       </td><td>NA        </td><td>NA        </td><td>NA        </td><td>NA        </td><td>NA        </td><td>NA        </td><td>NA        </td><td>NA        </td><td>NA        </td><td>NA        </td></tr>\n",
       "\t<tr><td>1077430   </td><td>1314167   </td><td> 2500     </td><td> 2500     </td><td> 2500     </td><td> 60 months</td><td>15.27     </td><td> 59.83    </td><td>C         </td><td>C4        </td><td>...       </td><td>NA        </td><td>NA        </td><td>NA        </td><td>NA        </td><td>NA        </td><td>NA        </td><td>NA        </td><td>NA        </td><td>NA        </td><td>NA        </td></tr>\n",
       "\t<tr><td>1077175   </td><td>1313524   </td><td> 2400     </td><td> 2400     </td><td> 2400     </td><td> 36 months</td><td>15.96     </td><td> 84.33    </td><td>C         </td><td>C5        </td><td>...       </td><td>NA        </td><td>NA        </td><td>NA        </td><td>NA        </td><td>NA        </td><td>NA        </td><td>NA        </td><td>NA        </td><td>NA        </td><td>NA        </td></tr>\n",
       "\t<tr><td>1076863   </td><td>1277178   </td><td>10000     </td><td>10000     </td><td>10000     </td><td> 36 months</td><td>13.49     </td><td>339.31    </td><td>C         </td><td>C1        </td><td>...       </td><td>NA        </td><td>NA        </td><td>NA        </td><td>NA        </td><td>NA        </td><td>NA        </td><td>NA        </td><td>NA        </td><td>NA        </td><td>NA        </td></tr>\n",
       "\t<tr><td>1075358   </td><td>1311748   </td><td> 3000     </td><td> 3000     </td><td> 3000     </td><td> 60 months</td><td>12.69     </td><td> 67.79    </td><td>B         </td><td>B5        </td><td>...       </td><td>NA        </td><td>NA        </td><td>NA        </td><td>NA        </td><td>NA        </td><td>NA        </td><td>NA        </td><td>NA        </td><td>NA        </td><td>NA        </td></tr>\n",
       "\t<tr><td>1075269   </td><td>1311441   </td><td> 5000     </td><td> 5000     </td><td> 5000     </td><td> 36 months</td><td> 7.90     </td><td>156.46    </td><td>A         </td><td>A4        </td><td>...       </td><td>NA        </td><td>NA        </td><td>NA        </td><td>NA        </td><td>NA        </td><td>NA        </td><td>NA        </td><td>NA        </td><td>NA        </td><td>NA        </td></tr>\n",
       "</tbody>\n",
       "</table>\n"
      ],
      "text/latex": [
       "\\begin{tabular}{r|llllllllllllllllllllllllllllllllllllllllllllllllllllllllllllllllllllllllll}\n",
       " id & member\\_id & loan\\_amnt & funded\\_amnt & funded\\_amnt\\_inv & term & int\\_rate & installment & grade & sub\\_grade & ... & total\\_bal\\_il & il\\_util & open\\_rv\\_12m & open\\_rv\\_24m & max\\_bal\\_bc & all\\_util & total\\_rev\\_hi\\_lim & inq\\_fi & total\\_cu\\_tl & inq\\_last\\_12m\\\\\n",
       "\\hline\n",
       "\t 1077501    & 1296599    &  5000      &  5000      &  4975      &  36 months & 10.65      & 162.87     & B          & B2         & ...        & NA         & NA         & NA         & NA         & NA         & NA         & NA         & NA         & NA         & NA        \\\\\n",
       "\t 1077430    & 1314167    &  2500      &  2500      &  2500      &  60 months & 15.27      &  59.83     & C          & C4         & ...        & NA         & NA         & NA         & NA         & NA         & NA         & NA         & NA         & NA         & NA        \\\\\n",
       "\t 1077175    & 1313524    &  2400      &  2400      &  2400      &  36 months & 15.96      &  84.33     & C          & C5         & ...        & NA         & NA         & NA         & NA         & NA         & NA         & NA         & NA         & NA         & NA        \\\\\n",
       "\t 1076863    & 1277178    & 10000      & 10000      & 10000      &  36 months & 13.49      & 339.31     & C          & C1         & ...        & NA         & NA         & NA         & NA         & NA         & NA         & NA         & NA         & NA         & NA        \\\\\n",
       "\t 1075358    & 1311748    &  3000      &  3000      &  3000      &  60 months & 12.69      &  67.79     & B          & B5         & ...        & NA         & NA         & NA         & NA         & NA         & NA         & NA         & NA         & NA         & NA        \\\\\n",
       "\t 1075269    & 1311441    &  5000      &  5000      &  5000      &  36 months &  7.90      & 156.46     & A          & A4         & ...        & NA         & NA         & NA         & NA         & NA         & NA         & NA         & NA         & NA         & NA        \\\\\n",
       "\\end{tabular}\n"
      ],
      "text/markdown": [
       "\n",
       "id | member_id | loan_amnt | funded_amnt | funded_amnt_inv | term | int_rate | installment | grade | sub_grade | ... | total_bal_il | il_util | open_rv_12m | open_rv_24m | max_bal_bc | all_util | total_rev_hi_lim | inq_fi | total_cu_tl | inq_last_12m | \n",
       "|---|---|---|---|---|---|\n",
       "| 1077501    | 1296599    |  5000      |  5000      |  4975      |  36 months | 10.65      | 162.87     | B          | B2         | ...        | NA         | NA         | NA         | NA         | NA         | NA         | NA         | NA         | NA         | NA         | \n",
       "| 1077430    | 1314167    |  2500      |  2500      |  2500      |  60 months | 15.27      |  59.83     | C          | C4         | ...        | NA         | NA         | NA         | NA         | NA         | NA         | NA         | NA         | NA         | NA         | \n",
       "| 1077175    | 1313524    |  2400      |  2400      |  2400      |  36 months | 15.96      |  84.33     | C          | C5         | ...        | NA         | NA         | NA         | NA         | NA         | NA         | NA         | NA         | NA         | NA         | \n",
       "| 1076863    | 1277178    | 10000      | 10000      | 10000      |  36 months | 13.49      | 339.31     | C          | C1         | ...        | NA         | NA         | NA         | NA         | NA         | NA         | NA         | NA         | NA         | NA         | \n",
       "| 1075358    | 1311748    |  3000      |  3000      |  3000      |  60 months | 12.69      |  67.79     | B          | B5         | ...        | NA         | NA         | NA         | NA         | NA         | NA         | NA         | NA         | NA         | NA         | \n",
       "| 1075269    | 1311441    |  5000      |  5000      |  5000      |  36 months |  7.90      | 156.46     | A          | A4         | ...        | NA         | NA         | NA         | NA         | NA         | NA         | NA         | NA         | NA         | NA         | \n",
       "\n",
       "\n"
      ],
      "text/plain": [
       "  id      member_id loan_amnt funded_amnt funded_amnt_inv term       int_rate\n",
       "1 1077501 1296599    5000      5000        4975            36 months 10.65   \n",
       "2 1077430 1314167    2500      2500        2500            60 months 15.27   \n",
       "3 1077175 1313524    2400      2400        2400            36 months 15.96   \n",
       "4 1076863 1277178   10000     10000       10000            36 months 13.49   \n",
       "5 1075358 1311748    3000      3000        3000            60 months 12.69   \n",
       "6 1075269 1311441    5000      5000        5000            36 months  7.90   \n",
       "  installment grade sub_grade ... total_bal_il il_util open_rv_12m open_rv_24m\n",
       "1 162.87      B     B2        ... NA           NA      NA          NA         \n",
       "2  59.83      C     C4        ... NA           NA      NA          NA         \n",
       "3  84.33      C     C5        ... NA           NA      NA          NA         \n",
       "4 339.31      C     C1        ... NA           NA      NA          NA         \n",
       "5  67.79      B     B5        ... NA           NA      NA          NA         \n",
       "6 156.46      A     A4        ... NA           NA      NA          NA         \n",
       "  max_bal_bc all_util total_rev_hi_lim inq_fi total_cu_tl inq_last_12m\n",
       "1 NA         NA       NA               NA     NA          NA          \n",
       "2 NA         NA       NA               NA     NA          NA          \n",
       "3 NA         NA       NA               NA     NA          NA          \n",
       "4 NA         NA       NA               NA     NA          NA          \n",
       "5 NA         NA       NA               NA     NA          NA          \n",
       "6 NA         NA       NA               NA     NA          NA          "
      ]
     },
     "metadata": {},
     "output_type": "display_data"
    }
   ],
   "source": [
    "head(loadData)"
   ]
  },
  {
   "cell_type": "code",
   "execution_count": 18,
   "metadata": {
    "collapsed": false
   },
   "outputs": [
    {
     "data": {
      "text/html": [
       "<ol class=list-inline>\n",
       "\t<li>887379</li>\n",
       "\t<li>74</li>\n",
       "</ol>\n"
      ],
      "text/latex": [
       "\\begin{enumerate*}\n",
       "\\item 887379\n",
       "\\item 74\n",
       "\\end{enumerate*}\n"
      ],
      "text/markdown": [
       "1. 887379\n",
       "2. 74\n",
       "\n",
       "\n"
      ],
      "text/plain": [
       "[1] 887379     74"
      ]
     },
     "metadata": {},
     "output_type": "display_data"
    }
   ],
   "source": [
    "dim(loadData)"
   ]
  },
  {
   "cell_type": "markdown",
   "metadata": {},
   "source": [
    "Pri izbiri spremenljivk si pomagam s fukncijo str(loadData), ki mi izpiše podrobnejše informacije o posameznih spremenljivkah. Nekaj razlogov za odstranitev posameznih spremenljivk:\n",
    "- \"emp_title\", \"url\", \"desc\" ... : pri vseh gre za to, da so prevelike oz. preveč specifične za smiselno analizo (\"emp_title\" tako vsebuje kar slabih 300.000 različnih vnosov).\n",
    "- \"member_id\", \"revol_bal\", \"funded_amnt\" ... : informacije so zajete že v drugih spremenljivkah, ne doprinesejo bistveno novih informacij k celoti (\"funded_amnt\" se od \"loan_amnt\" v povprečju razlikuje za samo 13$).\n",
    "- \"pymnt_plan\", \"application_type\" : binarne spremenljivke. Od tega manj kot 0,5% vnosov pripada enemu razredu, tako da so praktično vse spremenljivke v istem razredu.\n",
    "- \"tot_coll_amt\", \"tot_cur_bal\", \"open_acc_6m\" ... : večina vnosov je NA."
   ]
  },
  {
   "cell_type": "code",
   "execution_count": 19,
   "metadata": {
    "collapsed": false
   },
   "outputs": [
    {
     "name": "stdout",
     "output_type": "stream",
     "text": [
      "'data.frame':\t887379 obs. of  74 variables:\n",
      " $ id                         : int  1077501 1077430 1077175 1076863 1075358 1075269 1069639 1072053 1071795 1071570 ...\n",
      " $ member_id                  : int  1296599 1314167 1313524 1277178 1311748 1311441 1304742 1288686 1306957 1306721 ...\n",
      " $ loan_amnt                  : num  5000 2500 2400 10000 3000 ...\n",
      " $ funded_amnt                : num  5000 2500 2400 10000 3000 ...\n",
      " $ funded_amnt_inv            : num  4975 2500 2400 10000 3000 ...\n",
      " $ term                       : Factor w/ 2 levels \" 36 months\",\" 60 months\": 1 2 1 1 2 1 2 1 2 2 ...\n",
      " $ int_rate                   : num  10.6 15.3 16 13.5 12.7 ...\n",
      " $ installment                : num  162.9 59.8 84.3 339.3 67.8 ...\n",
      " $ grade                      : Factor w/ 7 levels \"A\",\"B\",\"C\",\"D\",..: 2 3 3 3 2 1 3 5 6 2 ...\n",
      " $ sub_grade                  : Factor w/ 35 levels \"A1\",\"A2\",\"A3\",..: 7 14 15 11 10 4 15 21 27 10 ...\n",
      " $ emp_title                  : Factor w/ 299273 levels \"\",\"'Property Manager\",..: 1 224800 1 9376 282199 285977 246848 171062 1 256905 ...\n",
      " $ emp_length                 : Factor w/ 12 levels \"< 1 year\",\"1 year\",..: 3 1 3 3 2 5 10 11 6 1 ...\n",
      " $ home_ownership             : Factor w/ 6 levels \"ANY\",\"MORTGAGE\",..: 6 6 6 6 6 6 6 6 5 6 ...\n",
      " $ annual_inc                 : num  24000 30000 12252 49200 80000 ...\n",
      " $ verification_status        : Factor w/ 3 levels \"Not Verified\",..: 3 2 1 2 2 2 1 2 2 3 ...\n",
      " $ issue_d                    : Factor w/ 103 levels \"Apr-2008\",\"Apr-2009\",..: 22 22 22 22 22 22 22 22 22 22 ...\n",
      " $ loan_status                : Factor w/ 10 levels \"Charged Off\",..: 6 1 6 6 2 6 2 6 1 1 ...\n",
      " $ pymnt_plan                 : Factor w/ 2 levels \"n\",\"y\": 1 1 1 1 1 1 1 1 1 1 ...\n",
      " $ url                        : Factor w/ 887379 levels \"https://www.lendingclub.com/browse/loanDetail.action?loan_id=1000007\",..: 21292 21256 21242 21220 20692 20684 19191 19811 19796 19657 ...\n",
      " $ desc                       : Factor w/ 124471 levels \"\",\"- Pay off Dell Financial: $ 1300.00 - Pay off IRS for 2005: $ 1400.00 - Pay off Mac Comp    : $ 1700.00 - Pay off Bill Me Later\"| __truncated__,..: 113401 113406 1 113257 113233 1 112346 111630 113231 111633 ...\n",
      " $ purpose                    : Factor w/ 14 levels \"car\",\"credit_card\",..: 2 1 12 10 10 14 3 1 12 10 ...\n",
      " $ title                      : Factor w/ 63146 levels \"\",\"'08 & '09 Roth IRA Investments\",..: 10497 4976 52500 50874 50267 42595 36948 7266 24372 6113 ...\n",
      " $ zip_code                   : Factor w/ 935 levels \"007xx\",\"008xx\",..: 810 296 572 856 909 803 267 839 897 729 ...\n",
      " $ addr_state                 : Factor w/ 51 levels \"AK\",\"AL\",\"AR\",..: 4 11 15 5 38 4 28 5 5 44 ...\n",
      " $ dti                        : num  27.65 1 8.72 20 17.94 ...\n",
      " $ delinq_2yrs                : num  0 0 0 0 0 0 0 0 0 0 ...\n",
      " $ earliest_cr_line           : Factor w/ 698 levels \"\",\"Apr-1955\",..: 265 43 572 210 276 575 342 287 48 690 ...\n",
      " $ inq_last_6mths             : num  1 5 2 1 0 3 1 2 2 0 ...\n",
      " $ mths_since_last_delinq     : num  NA NA NA 35 38 NA NA NA NA NA ...\n",
      " $ mths_since_last_record     : num  NA NA NA NA NA NA NA NA NA NA ...\n",
      " $ open_acc                   : num  3 3 2 10 15 9 7 4 11 2 ...\n",
      " $ pub_rec                    : num  0 0 0 0 0 0 0 0 0 0 ...\n",
      " $ revol_bal                  : num  13648 1687 2956 5598 27783 ...\n",
      " $ revol_util                 : num  83.7 9.4 98.5 21 53.9 28.3 85.6 87.5 32.6 36.5 ...\n",
      " $ total_acc                  : num  9 4 10 37 38 12 11 4 13 3 ...\n",
      " $ initial_list_status        : Factor w/ 2 levels \"f\",\"w\": 1 1 1 1 1 1 1 1 1 1 ...\n",
      " $ out_prncp                  : num  0 0 0 0 767 ...\n",
      " $ out_prncp_inv              : num  0 0 0 0 767 ...\n",
      " $ total_pymnt                : num  5861 1009 3004 12226 3242 ...\n",
      " $ total_pymnt_inv            : num  5832 1009 3004 12226 3242 ...\n",
      " $ total_rec_prncp            : num  5000 456 2400 10000 2233 ...\n",
      " $ total_rec_int              : num  861 435 604 2209 1009 ...\n",
      " $ total_rec_late_fee         : num  0 0 0 17 0 ...\n",
      " $ recoveries                 : num  0 117 0 0 0 ...\n",
      " $ collection_recovery_fee    : num  0 1.11 0 0 0 0 0 0 2.09 2.52 ...\n",
      " $ last_pymnt_d               : Factor w/ 99 levels \"\",\"Apr-2008\",..: 42 7 58 42 43 42 43 42 6 80 ...\n",
      " $ last_pymnt_amnt            : num  171.6 119.7 649.9 357.5 67.8 ...\n",
      " $ next_pymnt_d               : Factor w/ 101 levels \"\",\"Apr-2008\",..: 1 1 1 1 35 1 35 1 1 1 ...\n",
      " $ last_credit_pull_d         : Factor w/ 104 levels \"\",\"Apr-2009\",..: 43 102 43 42 43 104 43 25 14 67 ...\n",
      " $ collections_12_mths_ex_med : num  0 0 0 0 0 0 0 0 0 0 ...\n",
      " $ mths_since_last_major_derog: num  NA NA NA NA NA NA NA NA NA NA ...\n",
      " $ policy_code                : num  1 1 1 1 1 1 1 1 1 1 ...\n",
      " $ application_type           : Factor w/ 2 levels \"INDIVIDUAL\",\"JOINT\": 1 1 1 1 1 1 1 1 1 1 ...\n",
      " $ annual_inc_joint           : num  NA NA NA NA NA NA NA NA NA NA ...\n",
      " $ dti_joint                  : num  NA NA NA NA NA NA NA NA NA NA ...\n",
      " $ verification_status_joint  : Factor w/ 4 levels \"\",\"Not Verified\",..: 1 1 1 1 1 1 1 1 1 1 ...\n",
      " $ acc_now_delinq             : num  0 0 0 0 0 0 0 0 0 0 ...\n",
      " $ tot_coll_amt               : num  NA NA NA NA NA NA NA NA NA NA ...\n",
      " $ tot_cur_bal                : num  NA NA NA NA NA NA NA NA NA NA ...\n",
      " $ open_acc_6m                : num  NA NA NA NA NA NA NA NA NA NA ...\n",
      " $ open_il_6m                 : num  NA NA NA NA NA NA NA NA NA NA ...\n",
      " $ open_il_12m                : num  NA NA NA NA NA NA NA NA NA NA ...\n",
      " $ open_il_24m                : num  NA NA NA NA NA NA NA NA NA NA ...\n",
      " $ mths_since_rcnt_il         : num  NA NA NA NA NA NA NA NA NA NA ...\n",
      " $ total_bal_il               : num  NA NA NA NA NA NA NA NA NA NA ...\n",
      " $ il_util                    : num  NA NA NA NA NA NA NA NA NA NA ...\n",
      " $ open_rv_12m                : num  NA NA NA NA NA NA NA NA NA NA ...\n",
      " $ open_rv_24m                : num  NA NA NA NA NA NA NA NA NA NA ...\n",
      " $ max_bal_bc                 : num  NA NA NA NA NA NA NA NA NA NA ...\n",
      " $ all_util                   : num  NA NA NA NA NA NA NA NA NA NA ...\n",
      " $ total_rev_hi_lim           : num  NA NA NA NA NA NA NA NA NA NA ...\n",
      " $ inq_fi                     : num  NA NA NA NA NA NA NA NA NA NA ...\n",
      " $ total_cu_tl                : num  NA NA NA NA NA NA NA NA NA NA ...\n",
      " $ inq_last_12m               : num  NA NA NA NA NA NA NA NA NA NA ...\n"
     ]
    }
   ],
   "source": [
    "str(loadData)"
   ]
  },
  {
   "cell_type": "code",
   "execution_count": 22,
   "metadata": {
    "collapsed": false
   },
   "outputs": [
    {
     "data": {
      "text/html": [
       "13.3869800840454"
      ],
      "text/latex": [
       "13.3869800840454"
      ],
      "text/markdown": [
       "13.3869800840454"
      ],
      "text/plain": [
       "[1] 13.38698"
      ]
     },
     "metadata": {},
     "output_type": "display_data"
    },
    {
     "data": {
      "text/html": [
       "52.8002218601001"
      ],
      "text/latex": [
       "52.8002218601001"
      ],
      "text/markdown": [
       "52.8002218601001"
      ],
      "text/plain": [
       "[1] 52.80022"
      ]
     },
     "metadata": {},
     "output_type": "display_data"
    },
    {
     "data": {
      "text/html": [
       "14755.2646050898"
      ],
      "text/latex": [
       "14755.2646050898"
      ],
      "text/markdown": [
       "14755.2646050898"
      ],
      "text/plain": [
       "[1] 14755.26"
      ]
     },
     "metadata": {},
     "output_type": "display_data"
    }
   ],
   "source": [
    "mean(abs(loadData$loan_amnt - loadData$funded_amnt))\n",
    "mean(abs(loadData$loan_amnt - loadData$funded_amnt_inv))\n",
    "mean(loadData$loan_amnt)"
   ]
  },
  {
   "cell_type": "code",
   "execution_count": 25,
   "metadata": {
    "collapsed": false
   },
   "outputs": [
    {
     "data": {
      "text/html": [
       "887369"
      ],
      "text/latex": [
       "887369"
      ],
      "text/markdown": [
       "887369"
      ],
      "text/plain": [
       "[1] 887369"
      ]
     },
     "metadata": {},
     "output_type": "display_data"
    }
   ],
   "source": [
    "sum(loadData$pymnt_plan == 'n')"
   ]
  },
  {
   "cell_type": "code",
   "execution_count": 35,
   "metadata": {
    "collapsed": false
   },
   "outputs": [
    {
     "data": {
      "text/html": [
       "3.41160977440305"
      ],
      "text/latex": [
       "3.41160977440305"
      ],
      "text/markdown": [
       "3.41160977440305"
      ],
      "text/plain": [
       "[1] 3.41161"
      ]
     },
     "metadata": {},
     "output_type": "display_data"
    }
   ],
   "source": [
    "mean(abs(loadData$out_prncp - loadData$out_prncp_inv))"
   ]
  },
  {
   "cell_type": "code",
   "execution_count": 36,
   "metadata": {
    "collapsed": false
   },
   "outputs": [
    {
     "data": {
      "text/html": [
       "352015.965053907"
      ],
      "text/latex": [
       "352015.965053907"
      ],
      "text/markdown": [
       "352015.965053907"
      ],
      "text/plain": [
       "[1] 352016"
      ]
     },
     "metadata": {},
     "output_type": "display_data"
    }
   ],
   "source": [
    "sum(loadData$total_rec_late_fee)"
   ]
  },
  {
   "cell_type": "code",
   "execution_count": 38,
   "metadata": {
    "collapsed": false
   },
   "outputs": [
    {
     "data": {
      "text/html": [
       "511"
      ],
      "text/latex": [
       "511"
      ],
      "text/markdown": [
       "511"
      ],
      "text/plain": [
       "[1] 511"
      ]
     },
     "metadata": {},
     "output_type": "display_data"
    }
   ],
   "source": [
    "sum(loadData$application_type == 'JOINT')"
   ]
  },
  {
   "cell_type": "code",
   "execution_count": 9,
   "metadata": {
    "collapsed": true
   },
   "outputs": [],
   "source": [
    "downsampl <- loadData[sample(nrow(loadData), 80000), ]"
   ]
  },
  {
   "cell_type": "code",
   "execution_count": 10,
   "metadata": {
    "collapsed": false
   },
   "outputs": [],
   "source": [
    "downsampl <- downsampl[,c(\"id\", \"loan_amnt\", \"int_rate\", \"installment\", \"grade\", \"sub_grade\", \"emp_length\", \"home_ownership\", \n",
    "                    \"annual_inc\", \"verification_status\", \"issue_d\", \"purpose\", \"addr_state\", \"dti\", \"open_acc\", \n",
    "                    \"revol_util\", \"total_acc\", \"out_prncp\", \"total_pymnt\", \"total_rec_late_fee\", \"last_pymnt_d\", \"loan_status\")]"
   ]
  },
  {
   "cell_type": "markdown",
   "metadata": {},
   "source": [
    "Sedaj dobim tabelo dimenzije 80.000 x 21. Podatki so v pravi obliki (za vsakega komitenta je shranjenih najpomembnejših 21 spremenljivk). Na koncu tabelo shranim v \"loanDownsample.csv\". "
   ]
  },
  {
   "cell_type": "code",
   "execution_count": 28,
   "metadata": {
    "collapsed": false
   },
   "outputs": [
    {
     "data": {
      "text/html": [
       "<ol class=list-inline>\n",
       "\t<li>80000</li>\n",
       "\t<li>21</li>\n",
       "</ol>\n"
      ],
      "text/latex": [
       "\\begin{enumerate*}\n",
       "\\item 80000\n",
       "\\item 21\n",
       "\\end{enumerate*}\n"
      ],
      "text/markdown": [
       "1. 80000\n",
       "2. 21\n",
       "\n",
       "\n"
      ],
      "text/plain": [
       "[1] 80000    21"
      ]
     },
     "metadata": {},
     "output_type": "display_data"
    }
   ],
   "source": [
    "dim(downsampl)"
   ]
  },
  {
   "cell_type": "code",
   "execution_count": 26,
   "metadata": {
    "collapsed": false
   },
   "outputs": [
    {
     "data": {
      "text/html": [
       "<table>\n",
       "<thead><tr><th></th><th scope=col>loan_amnt</th><th scope=col>int_rate</th><th scope=col>installment</th><th scope=col>grade</th><th scope=col>sub_grade</th><th scope=col>emp_length</th><th scope=col>home_ownership</th><th scope=col>annual_inc</th><th scope=col>verification_status</th><th scope=col>issue_d</th><th scope=col>...</th><th scope=col>addr_state</th><th scope=col>dti</th><th scope=col>open_acc</th><th scope=col>revol_util</th><th scope=col>total_acc</th><th scope=col>out_prncp</th><th scope=col>total_pymnt</th><th scope=col>total_rec_late_fee</th><th scope=col>last_pymnt_d</th><th scope=col>loan_status</th></tr></thead>\n",
       "<tbody>\n",
       "\t<tr><th scope=row>66370404</th><td> 3500          </td><td>10.64          </td><td>113.99         </td><td>B              </td><td>B4             </td><td>2 years        </td><td>RENT           </td><td>42000          </td><td>Source Verified</td><td>Dec-2015       </td><td>...            </td><td>FL             </td><td>24.43          </td><td> 9             </td><td>38.6           </td><td>32             </td><td> 3417.04       </td><td>  111.92       </td><td>0              </td><td>Jan-2016       </td><td>Current        </td></tr>\n",
       "\t<tr><th scope=row>56019943</th><td> 2575          </td><td>17.57          </td><td> 92.54         </td><td>D              </td><td>D4             </td><td>10+ years      </td><td>RENT           </td><td>36000          </td><td>Verified       </td><td>Jul-2015       </td><td>...            </td><td>TX             </td><td>13.67          </td><td> 6             </td><td>14.5           </td><td> 7             </td><td> 2292.66       </td><td>  457.67       </td><td>0              </td><td>Dec-2015       </td><td>Current        </td></tr>\n",
       "\t<tr><th scope=row>63518390</th><td> 5275          </td><td>21.99          </td><td>201.43         </td><td>F              </td><td>F1             </td><td>10+ years      </td><td>MORTGAGE       </td><td>52000          </td><td>Verified       </td><td>Oct-2015       </td><td>...            </td><td>MO             </td><td>22.36          </td><td> 8             </td><td>57.0           </td><td> 9             </td><td> 5063.55       </td><td>  396.42       </td><td>0              </td><td>Dec-2015       </td><td>Current        </td></tr>\n",
       "\t<tr><th scope=row>14600061</th><td>15000                                                  </td><td>19.47                                                  </td><td>553.42                                                 </td><td>D                                                      </td><td>D5                                                     </td><td>&lt; 1 year                                            </td><td><span style=white-space:pre-wrap>OWN     </span>       </td><td>80000                                                  </td><td><span style=white-space:pre-wrap>Verified       </span></td><td>Apr-2014                                               </td><td>...                                                    </td><td>VA                                                     </td><td>28.97                                                  </td><td>24                                                     </td><td>68.8                                                   </td><td>41                                                     </td><td><span style=white-space:pre-wrap>    0.00</span>       </td><td>16942.03                                               </td><td>0                                                      </td><td>Dec-2014                                               </td><td>Fully Paid                                             </td></tr>\n",
       "\t<tr><th scope=row>48474794</th><td>31000          </td><td>13.99          </td><td>721.16         </td><td>C              </td><td>C4             </td><td>10+ years      </td><td>RENT           </td><td>86147          </td><td>Verified       </td><td>May-2015       </td><td>...            </td><td>TX             </td><td>12.12          </td><td> 7             </td><td>72.0           </td><td>14             </td><td>28001.77       </td><td> 5745.19       </td><td>0              </td><td>Jan-2016       </td><td>Current        </td></tr>\n",
       "\t<tr><th scope=row>40433030</th><td>24000          </td><td>17.14          </td><td>598.27         </td><td>D              </td><td>D4             </td><td>7 years        </td><td>MORTGAGE       </td><td>68000          </td><td>Source Verified</td><td>Feb-2015       </td><td>...            </td><td>UT             </td><td>22.01          </td><td> 9             </td><td>52.9           </td><td>22             </td><td>20980.29       </td><td> 6558.12       </td><td>0              </td><td>Jan-2016       </td><td>Current        </td></tr>\n",
       "</tbody>\n",
       "</table>\n"
      ],
      "text/latex": [
       "\\begin{tabular}{r|lllllllllllllllllllll}\n",
       "  & loan\\_amnt & int\\_rate & installment & grade & sub\\_grade & emp\\_length & home\\_ownership & annual\\_inc & verification\\_status & issue\\_d & ... & addr\\_state & dti & open\\_acc & revol\\_util & total\\_acc & out\\_prncp & total\\_pymnt & total\\_rec\\_late\\_fee & last\\_pymnt\\_d & loan\\_status\\\\\n",
       "\\hline\n",
       "\t66370404 &  3500           & 10.64           & 113.99          & B               & B4              & 2 years         & RENT            & 42000           & Source Verified & Dec-2015        & ...             & FL              & 24.43           &  9              & 38.6            & 32              &  3417.04        &   111.92        & 0               & Jan-2016        & Current        \\\\\n",
       "\t56019943 &  2575           & 17.57           &  92.54          & D               & D4              & 10+ years       & RENT            & 36000           & Verified        & Jul-2015        & ...             & TX              & 13.67           &  6              & 14.5            &  7              &  2292.66        &   457.67        & 0               & Dec-2015        & Current        \\\\\n",
       "\t63518390 &  5275           & 21.99           & 201.43          & F               & F1              & 10+ years       & MORTGAGE        & 52000           & Verified        & Oct-2015        & ...             & MO              & 22.36           &  8              & 57.0            &  9              &  5063.55        &   396.42        & 0               & Dec-2015        & Current        \\\\\n",
       "\t14600061 & 15000           & 19.47           & 553.42          & D               & D5              & < 1 year        & OWN             & 80000           & Verified        & Apr-2014        & ...             & VA              & 28.97           & 24              & 68.8            & 41              &     0.00        & 16942.03        & 0               & Dec-2014        & Fully Paid     \\\\\n",
       "\t48474794 & 31000           & 13.99           & 721.16          & C               & C4              & 10+ years       & RENT            & 86147           & Verified        & May-2015        & ...             & TX              & 12.12           &  7              & 72.0            & 14              & 28001.77        &  5745.19        & 0               & Jan-2016        & Current        \\\\\n",
       "\t40433030 & 24000           & 17.14           & 598.27          & D               & D4              & 7 years         & MORTGAGE        & 68000           & Source Verified & Feb-2015        & ...             & UT              & 22.01           &  9              & 52.9            & 22              & 20980.29        &  6558.12        & 0               & Jan-2016        & Current        \\\\\n",
       "\\end{tabular}\n"
      ],
      "text/markdown": [
       "\n",
       "| <!--/--> | loan_amnt | int_rate | installment | grade | sub_grade | emp_length | home_ownership | annual_inc | verification_status | issue_d | ... | addr_state | dti | open_acc | revol_util | total_acc | out_prncp | total_pymnt | total_rec_late_fee | last_pymnt_d | loan_status | \n",
       "|---|---|---|---|---|---|\n",
       "| 66370404 |  3500           | 10.64           | 113.99          | B               | B4              | 2 years         | RENT            | 42000           | Source Verified | Dec-2015        | ...             | FL              | 24.43           |  9              | 38.6            | 32              |  3417.04        |   111.92        | 0               | Jan-2016        | Current         | \n",
       "| 56019943 |  2575           | 17.57           |  92.54          | D               | D4              | 10+ years       | RENT            | 36000           | Verified        | Jul-2015        | ...             | TX              | 13.67           |  6              | 14.5            |  7              |  2292.66        |   457.67        | 0               | Dec-2015        | Current         | \n",
       "| 63518390 |  5275           | 21.99           | 201.43          | F               | F1              | 10+ years       | MORTGAGE        | 52000           | Verified        | Oct-2015        | ...             | MO              | 22.36           |  8              | 57.0            |  9              |  5063.55        |   396.42        | 0               | Dec-2015        | Current         | \n",
       "| 14600061 | 15000           | 19.47           | 553.42          | D               | D5              | < 1 year        | OWN             | 80000           | Verified        | Apr-2014        | ...             | VA              | 28.97           | 24              | 68.8            | 41              |     0.00        | 16942.03        | 0               | Dec-2014        | Fully Paid      | \n",
       "| 48474794 | 31000           | 13.99           | 721.16          | C               | C4              | 10+ years       | RENT            | 86147           | Verified        | May-2015        | ...             | TX              | 12.12           |  7              | 72.0            | 14              | 28001.77        |  5745.19        | 0               | Jan-2016        | Current         | \n",
       "| 40433030 | 24000           | 17.14           | 598.27          | D               | D4              | 7 years         | MORTGAGE        | 68000           | Source Verified | Feb-2015        | ...             | UT              | 22.01           |  9              | 52.9            | 22              | 20980.29        |  6558.12        | 0               | Jan-2016        | Current         | \n",
       "\n",
       "\n"
      ],
      "text/plain": [
       "         loan_amnt int_rate installment grade sub_grade emp_length\n",
       "66370404  3500     10.64    113.99      B     B4        2 years   \n",
       "56019943  2575     17.57     92.54      D     D4        10+ years \n",
       "63518390  5275     21.99    201.43      F     F1        10+ years \n",
       "14600061 15000     19.47    553.42      D     D5        < 1 year  \n",
       "48474794 31000     13.99    721.16      C     C4        10+ years \n",
       "40433030 24000     17.14    598.27      D     D4        7 years   \n",
       "         home_ownership annual_inc verification_status issue_d  ... addr_state\n",
       "66370404 RENT           42000      Source Verified     Dec-2015 ... FL        \n",
       "56019943 RENT           36000      Verified            Jul-2015 ... TX        \n",
       "63518390 MORTGAGE       52000      Verified            Oct-2015 ... MO        \n",
       "14600061 OWN            80000      Verified            Apr-2014 ... VA        \n",
       "48474794 RENT           86147      Verified            May-2015 ... TX        \n",
       "40433030 MORTGAGE       68000      Source Verified     Feb-2015 ... UT        \n",
       "         dti   open_acc revol_util total_acc out_prncp total_pymnt\n",
       "66370404 24.43  9       38.6       32         3417.04    111.92   \n",
       "56019943 13.67  6       14.5        7         2292.66    457.67   \n",
       "63518390 22.36  8       57.0        9         5063.55    396.42   \n",
       "14600061 28.97 24       68.8       41            0.00  16942.03   \n",
       "48474794 12.12  7       72.0       14        28001.77   5745.19   \n",
       "40433030 22.01  9       52.9       22        20980.29   6558.12   \n",
       "         total_rec_late_fee last_pymnt_d loan_status\n",
       "66370404 0                  Jan-2016     Current    \n",
       "56019943 0                  Dec-2015     Current    \n",
       "63518390 0                  Dec-2015     Current    \n",
       "14600061 0                  Dec-2014     Fully Paid \n",
       "48474794 0                  Jan-2016     Current    \n",
       "40433030 0                  Jan-2016     Current    "
      ]
     },
     "metadata": {},
     "output_type": "display_data"
    }
   ],
   "source": [
    "rownames(downsampl) <- downsampl$id\n",
    "downsampl$id <- NULL\n",
    "head(downsampl)"
   ]
  },
  {
   "cell_type": "code",
   "execution_count": 27,
   "metadata": {
    "collapsed": true
   },
   "outputs": [],
   "source": [
    "write.csv(downsampl, file = \"filesCredit/loanDownsample.csv\")"
   ]
  },
  {
   "cell_type": "markdown",
   "metadata": {},
   "source": [
    "Pri preliminarni raziskovalni analizi si bom pomagal s knjižnico \"DescTools\", ki omogoča enostaven prikaz porazdelitev posameznih spremenljivk."
   ]
  },
  {
   "cell_type": "code",
   "execution_count": 23,
   "metadata": {
    "collapsed": false
   },
   "outputs": [],
   "source": [
    "install.packages('DescTools', dependencies = TRUE, repos = \"http://cran.us.r-project.org\")\n",
    "library(DescTools)"
   ]
  },
  {
   "cell_type": "markdown",
   "metadata": {},
   "source": [
    "Najprej preverim porazdelitev \"Loan status\". Tu so namreč zbrane informacije o zamudnikih, tj. tistih ki imajo težave pri odplačevanju kredita. Ravno te spremenljivke bom kasneje poskusil napovedati.\n",
    "\n",
    "Vidim, da gre za primer \"unbalanced data\". Razredi, ki predstavljajo \"težave\" (Late, Default, Charged Off), tako skupaj predstavljajo le dobrih 7% celotnih podatkov. "
   ]
  },
  {
   "cell_type": "code",
   "execution_count": 31,
   "metadata": {
    "collapsed": false
   },
   "outputs": [
    {
     "data": {
      "text/plain": [
       "------------------------------------------------------------------------------ \n",
       "Loan status\n",
       "\n",
       "  length      n    NAs unique levels  dupes\n",
       "  80'000 80'000      0     10     10      y\n",
       "         100.0%   0.0%                     \n",
       "\n",
       "                                                  level    freq   perc  cumfreq  cumperc\n",
       "1                                               Current  54'128  67.7%   54'128    67.7%\n",
       "2                                            Fully Paid  18'681  23.4%   72'809    91.0%\n",
       "3                                           Charged Off   4'215   5.3%   77'024    96.3%\n",
       "4                                    Late (31-120 days)   1'086   1.4%   78'110    97.6%\n",
       "5                                                Issued     757   0.9%   78'867    98.6%\n",
       "6                                       In Grace Period     579   0.7%   79'446    99.3%\n",
       "7                                     Late (16-30 days)     206   0.3%   79'652    99.6%\n",
       "8    Does not meet the credit policy. Status:Fully Paid     161   0.2%   79'813    99.8%\n",
       "9                                               Default     110   0.1%   79'923    99.9%\n",
       "10  Does not meet the credit policy. Status:Charged Off      77   0.1%   80'000   100.0%\n"
      ]
     },
     "metadata": {},
     "output_type": "display_data"
    },
    {
     "data": {
      "image/png": "[encoded data removed]",
      "text/plain": [
       "Plot with title \"Loan status\""
      ]
     },
     "metadata": {},
     "output_type": "display_data"
    }
   ],
   "source": [
    "Desc(downsampl$loan_status, main = \"Loan status\", plotit = T)"
   ]
  },
  {
   "cell_type": "markdown",
   "metadata": {},
   "source": [
    "Izračunam lahko še povprečni dohodek po kategorijah spremenljivke \"loan_status\". Vidim, da so rezultati pričakovani. Dolžniki, ki zamujajo ali pri katerih je prišlo do \"default-a\", imajo v povprečju nižji dohodek. Podobno storim še za obrestno mero in ponovno vidim, da imajo \"slabši\" najemniki posojila v povprečju višjo obrestno mero (kar je pričakovano, saj banka želi višjo premijo za tveganje)."
   ]
  },
  {
   "cell_type": "code",
   "execution_count": 7,
   "metadata": {
    "collapsed": false
   },
   "outputs": [
    {
     "data": {
      "text/html": [
       "<table>\n",
       "<thead><tr><th scope=col>loan_status</th><th scope=col>povpr_dohodek</th><th scope=col>obr_mera</th></tr></thead>\n",
       "<tbody>\n",
       "\t<tr><td>Charged Off                                        </td><td>64714.12                                           </td><td>16.11120                                           </td></tr>\n",
       "\t<tr><td>Current                                            </td><td>76088.21                                           </td><td>12.98617                                           </td></tr>\n",
       "\t<tr><td>Default                                            </td><td>66062.83                                           </td><td>16.18345                                           </td></tr>\n",
       "\t<tr><td>Does not meet the credit policy. Status:Charged Off</td><td>63030.30                                           </td><td>14.64195                                           </td></tr>\n",
       "\t<tr><td>Does not meet the credit policy. Status:Fully Paid </td><td>74186.34                                           </td><td>14.03267                                           </td></tr>\n",
       "\t<tr><td>Fully Paid                                         </td><td>73868.48                                           </td><td>13.31570                                           </td></tr>\n",
       "\t<tr><td>In Grace Period                                    </td><td>72291.44                                           </td><td>15.55974                                           </td></tr>\n",
       "\t<tr><td>Issued                                             </td><td>77725.93                                           </td><td>12.55231                                           </td></tr>\n",
       "\t<tr><td>Late (16-30 days)                                  </td><td>72190.86                                           </td><td>15.95917                                           </td></tr>\n",
       "\t<tr><td>Late (31-120 days)                                 </td><td>70509.98                                           </td><td>15.88438                                           </td></tr>\n",
       "</tbody>\n",
       "</table>\n"
      ],
      "text/latex": [
       "\\begin{tabular}{r|lll}\n",
       " loan\\_status & povpr\\_dohodek & obr\\_mera\\\\\n",
       "\\hline\n",
       "\t Charged Off                                         & 64714.12                                            & 16.11120                                           \\\\\n",
       "\t Current                                             & 76088.21                                            & 12.98617                                           \\\\\n",
       "\t Default                                             & 66062.83                                            & 16.18345                                           \\\\\n",
       "\t Does not meet the credit policy. Status:Charged Off & 63030.30                                            & 14.64195                                           \\\\\n",
       "\t Does not meet the credit policy. Status:Fully Paid  & 74186.34                                            & 14.03267                                           \\\\\n",
       "\t Fully Paid                                          & 73868.48                                            & 13.31570                                           \\\\\n",
       "\t In Grace Period                                     & 72291.44                                            & 15.55974                                           \\\\\n",
       "\t Issued                                              & 77725.93                                            & 12.55231                                           \\\\\n",
       "\t Late (16-30 days)                                   & 72190.86                                            & 15.95917                                           \\\\\n",
       "\t Late (31-120 days)                                  & 70509.98                                            & 15.88438                                           \\\\\n",
       "\\end{tabular}\n"
      ],
      "text/markdown": [
       "\n",
       "loan_status | povpr_dohodek | obr_mera | \n",
       "|---|---|---|---|---|---|---|---|---|---|\n",
       "| Charged Off                                         | 64714.12                                            | 16.11120                                            | \n",
       "| Current                                             | 76088.21                                            | 12.98617                                            | \n",
       "| Default                                             | 66062.83                                            | 16.18345                                            | \n",
       "| Does not meet the credit policy. Status:Charged Off | 63030.30                                            | 14.64195                                            | \n",
       "| Does not meet the credit policy. Status:Fully Paid  | 74186.34                                            | 14.03267                                            | \n",
       "| Fully Paid                                          | 73868.48                                            | 13.31570                                            | \n",
       "| In Grace Period                                     | 72291.44                                            | 15.55974                                            | \n",
       "| Issued                                              | 77725.93                                            | 12.55231                                            | \n",
       "| Late (16-30 days)                                   | 72190.86                                            | 15.95917                                            | \n",
       "| Late (31-120 days)                                  | 70509.98                                            | 15.88438                                            | \n",
       "\n",
       "\n"
      ],
      "text/plain": [
       "   loan_status                                         povpr_dohodek obr_mera\n",
       "1  Charged Off                                         64714.12      16.11120\n",
       "2  Current                                             76088.21      12.98617\n",
       "3  Default                                             66062.83      16.18345\n",
       "4  Does not meet the credit policy. Status:Charged Off 63030.30      14.64195\n",
       "5  Does not meet the credit policy. Status:Fully Paid  74186.34      14.03267\n",
       "6  Fully Paid                                          73868.48      13.31570\n",
       "7  In Grace Period                                     72291.44      15.55974\n",
       "8  Issued                                              77725.93      12.55231\n",
       "9  Late (16-30 days)                                   72190.86      15.95917\n",
       "10 Late (31-120 days)                                  70509.98      15.88438"
      ]
     },
     "metadata": {},
     "output_type": "display_data"
    }
   ],
   "source": [
    "povprecni_dohodek <- downsampl %>% select(annual_inc, loan_status) %>% \n",
    "                        group_by(loan_status) %>% summarise(povpr_dohodek = mean(annual_inc))\n",
    "povprecni_dohodek <- povprecni_dohodek[with(povprecni_dohodek, order(povpr_dohodek)), ]\n",
    "#povprecni_dohodek\n",
    "\n",
    "obrestna <- downsampl %>% select(int_rate, loan_status) %>% \n",
    "                        group_by(loan_status) %>% summarise(obr_mera = mean(int_rate))\n",
    "obrestna <- obrestna[with(obrestna, order(obr_mera)), ]\n",
    "#obrestna\n",
    "\n",
    "primer <- merge(povprecni_dohodek, obrestna, by = \"loan_status\")\n",
    "primer"
   ]
  },
  {
   "cell_type": "code",
   "execution_count": null,
   "metadata": {
    "collapsed": true
   },
   "outputs": [],
   "source": []
  }
 ],
 "metadata": {
  "kernelspec": {
   "display_name": "R",
   "language": "R",
   "name": "ir"
  },
  "language_info": {
   "codemirror_mode": "r",
   "file_extension": ".r",
   "mimetype": "text/x-r-source",
   "name": "R",
   "pygments_lexer": "r",
   "version": "3.3.2"
  }
 },
 "nbformat": 4,
 "nbformat_minor": 2
}
